{
 "cells": [
  {
   "cell_type": "markdown",
   "metadata": {},
   "source": [
    "## Mining the data"
   ]
  },
  {
   "cell_type": "code",
   "execution_count": 12,
   "metadata": {},
   "outputs": [],
   "source": [
    "import pandas as pd\n",
    "import datetime\n",
    "from datetime import datetime,timedelta\n",
    "import pandas_datareader.data as web\n",
    "from IPython.display import clear_output"
   ]
  },
  {
   "cell_type": "markdown",
   "metadata": {},
   "source": [
    "#### Pulling files for 11 years of daily news with timestamps fron reuters. The data was found on harvard university website as a study data set and stored in my public s3 bucket."
   ]
  },
  {
   "cell_type": "code",
   "execution_count": 25,
   "metadata": {},
   "outputs": [
    {
     "name": "stdout",
     "output_type": "stream",
     "text": [
      "Concatenated 2017 loop\n"
     ]
    }
   ],
   "source": [
    "#downloading raw reuters news files from my public s3 bucket\n",
    "url='https://capstone-project-bucket-niko.s3.amazonaws.com/reuters-newswire-2007.v5.csv'\n",
    "df=pd.read_csv(url)\n",
    "years = range(2008,2018)\n",
    "for y in years:\n",
    "    url='https://capstone-project-bucket-niko.s3.amazonaws.com/reuters-newswire-{}.v5.csv'.format(y)\n",
    "    data=pd.read_csv(url)\n",
    "    df=pd.concat([df,data])\n",
    "    clear_output()\n",
    "    print('Concatenated '+str(y+1)+' loop')"
   ]
  },
  {
   "cell_type": "code",
   "execution_count": 26,
   "metadata": {},
   "outputs": [
    {
     "name": "stdout",
     "output_type": "stream",
     "text": [
      "The data has 16121309 rows.\n"
     ]
    },
    {
     "data": {
      "text/html": [
       "<div>\n",
       "<style scoped>\n",
       "    .dataframe tbody tr th:only-of-type {\n",
       "        vertical-align: middle;\n",
       "    }\n",
       "\n",
       "    .dataframe tbody tr th {\n",
       "        vertical-align: top;\n",
       "    }\n",
       "\n",
       "    .dataframe thead th {\n",
       "        text-align: right;\n",
       "    }\n",
       "</style>\n",
       "<table border=\"1\" class=\"dataframe\">\n",
       "  <thead>\n",
       "    <tr style=\"text-align: right;\">\n",
       "      <th></th>\n",
       "      <th>publish_time</th>\n",
       "      <th>headline_text</th>\n",
       "    </tr>\n",
       "  </thead>\n",
       "  <tbody>\n",
       "    <tr>\n",
       "      <th>0</th>\n",
       "      <td>200701010000</td>\n",
       "      <td>George Michael rocks Wembley</td>\n",
       "    </tr>\n",
       "    <tr>\n",
       "      <th>1</th>\n",
       "      <td>200701010001</td>\n",
       "      <td>Placido Domingo backs NY Met's opera at cinema...</td>\n",
       "    </tr>\n",
       "    <tr>\n",
       "      <th>2</th>\n",
       "      <td>200701010004</td>\n",
       "      <td>Shopping gets more expensive</td>\n",
       "    </tr>\n",
       "    <tr>\n",
       "      <th>3</th>\n",
       "      <td>200701010012</td>\n",
       "      <td>Apple posts options expenses; stands by CEO Jobs</td>\n",
       "    </tr>\n",
       "    <tr>\n",
       "      <th>4</th>\n",
       "      <td>200701010012</td>\n",
       "      <td>Dolly for dinner? Not just yet; critics say</td>\n",
       "    </tr>\n",
       "    <tr>\n",
       "      <th>5</th>\n",
       "      <td>200701010012</td>\n",
       "      <td>Goodyear workers ratify three-year contract</td>\n",
       "    </tr>\n",
       "    <tr>\n",
       "      <th>6</th>\n",
       "      <td>200701010012</td>\n",
       "      <td>Stock rally of 2006 smiled on all sectors</td>\n",
       "    </tr>\n",
       "    <tr>\n",
       "      <th>7</th>\n",
       "      <td>200701010013</td>\n",
       "      <td>Fancy getting dirty?</td>\n",
       "    </tr>\n",
       "    <tr>\n",
       "      <th>8</th>\n",
       "      <td>200701010017</td>\n",
       "      <td>Washington pays tribute to Ford</td>\n",
       "    </tr>\n",
       "    <tr>\n",
       "      <th>9</th>\n",
       "      <td>200701010018</td>\n",
       "      <td>Forest Whitaker speaks out</td>\n",
       "    </tr>\n",
       "  </tbody>\n",
       "</table>\n",
       "</div>"
      ],
      "text/plain": [
       "   publish_time                                      headline_text\n",
       "0  200701010000                       George Michael rocks Wembley\n",
       "1  200701010001  Placido Domingo backs NY Met's opera at cinema...\n",
       "2  200701010004                       Shopping gets more expensive\n",
       "3  200701010012   Apple posts options expenses; stands by CEO Jobs\n",
       "4  200701010012        Dolly for dinner? Not just yet; critics say\n",
       "5  200701010012        Goodyear workers ratify three-year contract\n",
       "6  200701010012          Stock rally of 2006 smiled on all sectors\n",
       "7  200701010013                               Fancy getting dirty?\n",
       "8  200701010017                    Washington pays tribute to Ford\n",
       "9  200701010018                         Forest Whitaker speaks out"
      ]
     },
     "execution_count": 26,
     "metadata": {},
     "output_type": "execute_result"
    }
   ],
   "source": [
    "print('The data has '+str(len(df))+' rows.')\n",
    "df.head(10)"
   ]
  },
  {
   "cell_type": "markdown",
   "metadata": {},
   "source": [
    "#### We have 16M rows and hundreds of news for each day. We need to format time from unix to datetime, consider all news published prior to 9.30am (market open) as previous day news for modelling purposes  and concatenate all news for the same day in one row."
   ]
  },
  {
   "cell_type": "code",
   "execution_count": 27,
   "metadata": {},
   "outputs": [],
   "source": [
    "#Converting Unix Time to Datetime and setting s index\n",
    "data=df.copy()\n",
    "data['publish_time']=data['publish_time'].astype(str)\n",
    "data['publish_time']= data['publish_time'].apply(lambda x:datetime.strptime(x, '%Y%m%d%H%M'))\n",
    "data.columns=(['time','news'])\n",
    "data=data.set_index('time')"
   ]
  },
  {
   "cell_type": "code",
   "execution_count": 28,
   "metadata": {},
   "outputs": [],
   "source": [
    "#Ading news prior to 9.30am to previous day for modelling purposes\n",
    "idx=[]\n",
    "for i in data.index:\n",
    "    if i.hour<9:\n",
    "        idx.append(i - timedelta(days=1))\n",
    "        \n",
    "    elif i.hour==9 and i.minute<25:\n",
    "        idx.append(i - timedelta(days=1))\n",
    "    else:\n",
    "        idx.append(i)\n",
    "        \n",
    "idx = [i.strftime('%Y-%m-%d') for i in idx]#converting to same format that will be used later when pulling stock data\n",
    "data.index=idx\n",
    "days=list(pd.DataFrame(idx,columns=['idx']).idx.unique())#making list of unique dates\n"
   ]
  },
  {
   "cell_type": "code",
   "execution_count": 31,
   "metadata": {},
   "outputs": [
    {
     "name": "stdout",
     "output_type": "stream",
     "text": [
      "Date 2017-12-31 updated.\n"
     ]
    }
   ],
   "source": [
    "#concatenating all news for same day into one row\n",
    "news=[]\n",
    "for day in days:\n",
    "    daily_news=''\n",
    "    frame=data[data.index==day]\n",
    "    for headline in frame.news:\n",
    "        daily_news+=str(headline)+' '\n",
    "    news.append(daily_news)\n",
    "    clear_output()\n",
    "    print('Date '+day+' updated.')"
   ]
  },
  {
   "cell_type": "code",
   "execution_count": 32,
   "metadata": {},
   "outputs": [
    {
     "data": {
      "text/html": [
       "<div>\n",
       "<style scoped>\n",
       "    .dataframe tbody tr th:only-of-type {\n",
       "        vertical-align: middle;\n",
       "    }\n",
       "\n",
       "    .dataframe tbody tr th {\n",
       "        vertical-align: top;\n",
       "    }\n",
       "\n",
       "    .dataframe thead th {\n",
       "        text-align: right;\n",
       "    }\n",
       "</style>\n",
       "<table border=\"1\" class=\"dataframe\">\n",
       "  <thead>\n",
       "    <tr style=\"text-align: right;\">\n",
       "      <th></th>\n",
       "      <th>Date</th>\n",
       "      <th>Headlines</th>\n",
       "    </tr>\n",
       "  </thead>\n",
       "  <tbody>\n",
       "    <tr>\n",
       "      <th>0</th>\n",
       "      <td>2006-12-31</td>\n",
       "      <td>George Michael rocks Wembley Placido Domingo b...</td>\n",
       "    </tr>\n",
       "    <tr>\n",
       "      <th>1</th>\n",
       "      <td>2007-01-01</td>\n",
       "      <td>Millions of Hindus due for holy bath in north ...</td>\n",
       "    </tr>\n",
       "    <tr>\n",
       "      <th>2</th>\n",
       "      <td>2007-01-02</td>\n",
       "      <td>Iraqi PM Maliki strengthened by Saddam executi...</td>\n",
       "    </tr>\n",
       "    <tr>\n",
       "      <th>3</th>\n",
       "      <td>2007-01-03</td>\n",
       "      <td>UPDATE 2-Ireland's CRH sees 2006 pretax profit...</td>\n",
       "    </tr>\n",
       "    <tr>\n",
       "      <th>4</th>\n",
       "      <td>2007-01-04</td>\n",
       "      <td>STOCKS NEWS EUROPE-Carnival steams ahead on br...</td>\n",
       "    </tr>\n",
       "  </tbody>\n",
       "</table>\n",
       "</div>"
      ],
      "text/plain": [
       "         Date                                          Headlines\n",
       "0  2006-12-31  George Michael rocks Wembley Placido Domingo b...\n",
       "1  2007-01-01  Millions of Hindus due for holy bath in north ...\n",
       "2  2007-01-02  Iraqi PM Maliki strengthened by Saddam executi...\n",
       "3  2007-01-03  UPDATE 2-Ireland's CRH sees 2006 pretax profit...\n",
       "4  2007-01-04  STOCKS NEWS EUROPE-Carnival steams ahead on br..."
      ]
     },
     "execution_count": 32,
     "metadata": {},
     "output_type": "execute_result"
    }
   ],
   "source": [
    "#combining into  data frame\n",
    "df=pd.DataFrame(columns=['Date','Headlines'], )\n",
    "df['Date']=days\n",
    "df['Headlines']=news\n",
    "df.head()"
   ]
  },
  {
   "cell_type": "code",
   "execution_count": 33,
   "metadata": {},
   "outputs": [],
   "source": [
    "#inverting dataset for easir elimnination of weekends\n",
    "df=df.sort_index(ascending=0)\n",
    "df=df.reset_index(drop=True)\n",
    "#creating a list of dates when the stock market was open\n",
    "marketDates=list(web.DataReader('SPY','yahoo','2006-12-30','2017-12-31').reset_index()['Date'].apply(lambda x:datetime.strftime(x, '%Y-%m-%d')))\n",
    "#moving data from closed days to previous day market was opwn\n",
    "for i in range(len(df)-1):\n",
    "    if df.Date[i] not in marketDates:\n",
    "        df.Headlines[i+1]=df.Headlines[i]+df.Headlines[i+1]"
   ]
  },
  {
   "cell_type": "code",
   "execution_count": 34,
   "metadata": {},
   "outputs": [],
   "source": [
    "#dropping the rows for dates the market was closed\n",
    "df = pd.merge(df,pd.DataFrame(marketDates,columns=['Date']), on=['Date'])\n",
    "df=df.sort_index(ascending=0)\n",
    "df=df.reset_index(drop=True)"
   ]
  },
  {
   "cell_type": "code",
   "execution_count": 35,
   "metadata": {},
   "outputs": [],
   "source": [
    "#setting index to date\n",
    "df=df.set_index('Date')"
   ]
  },
  {
   "cell_type": "code",
   "execution_count": 37,
   "metadata": {},
   "outputs": [],
   "source": [
    "#saving file\n",
    "df.to_csv('newsData.csv', index=True)"
   ]
  }
 ],
 "metadata": {
  "kernelspec": {
   "display_name": "Python 3",
   "language": "python",
   "name": "python3"
  },
  "language_info": {
   "codemirror_mode": {
    "name": "ipython",
    "version": 3
   },
   "file_extension": ".py",
   "mimetype": "text/x-python",
   "name": "python",
   "nbconvert_exporter": "python",
   "pygments_lexer": "ipython3",
   "version": "3.6.6"
  }
 },
 "nbformat": 4,
 "nbformat_minor": 2
}
